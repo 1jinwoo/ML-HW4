{
 "cells": [
  {
   "cell_type": "code",
   "execution_count": 14,
   "metadata": {},
   "outputs": [],
   "source": [
    "#Machine Learning HW 4 Q1 c (vi) Code\n",
    "#By Udai Nagpal, ugn2000\n",
    "\n",
    "#Standard Lloyds, for Q1 c(i)\n",
    "import numpy as np\n",
    "from numpy import linalg as LA\n",
    "\n",
    "#Toy data for testing\n",
    "#X = np.array([[1,2],[2,1],[3,2],[4,2]])\n",
    "#Centers = np.array([[0,0],[1,1],[2,2]])\n",
    "#clusters = np.array([2,4,2,1])\n",
    "\n",
    "#This code assumes two-dimensional X with dimension n x d\n",
    "def partition(X, centers):\n",
    "  cluster_assignments = np.zeros(X.shape[0])\n",
    "  for point_ind in range(X.shape[0]):\n",
    "    center_distances = np.zeros(centers.shape[0])\n",
    "    for center_ind in range(centers.shape[0]):\n",
    "      center_distances[center_ind] = LA.norm(np.subtract(X[point_ind], centers[center_ind]))\n",
    "    cluster_assignments[point_ind] = int(np.argmin(center_distances)+1.0)\n",
    "  return cluster_assignments\n",
    "\n",
    "def update_centers(X, k, cluster_assignments):\n",
    "    updated_centers = np.zeros((k, X.shape[1]))\n",
    "    for cluster in range(1,k+1):\n",
    "        cluster_X = []\n",
    "        for point_ind in range(cluster_assignments.shape[0]):\n",
    "            if cluster_assignments[point_ind]==cluster:\n",
    "                cluster_X.append(X[point_ind])\n",
    "        cluster_X = np.array(cluster_X)\n",
    "        updated_centers[cluster-1] = np.mean(cluster_X, axis=0)\n",
    "    return updated_centers\n",
    "\n",
    "#Initializes with uniform distribution from [0, max_component] for each dimension\n",
    "def random_initialization(X,k):\n",
    "    centers = np.zeros((k, X.shape[1]))\n",
    "    for dim_ind in range(X.shape[1]):\n",
    "        component_values = np.array(X[:,dim_ind])\n",
    "        for center in range(k):\n",
    "            centers[center, dim_ind] = np.random.uniform(low=np.amin(component_values),high=np.amax(component_values))\n",
    "    return centers\n",
    "            \n",
    "#Lloyds with random initialization\n",
    "def lloyds (X, k):\n",
    "    centers = random_initialization(X,k)\n",
    "    new_partition = np.zeros(X.shape[0])\n",
    "    convergence = False\n",
    "    while (convergence == False):\n",
    "        last_partition = new_partition\n",
    "        new_partition = partition(X, centers)\n",
    "        if np.array_equal(last_partition,new_partition):\n",
    "            convergence = True\n",
    "            break\n",
    "        centers = update_centers(X, k, new_partition)\n",
    "    return [centers, new_partition]\n",
    "#partition(X, Centers)\n",
    "#update_centers(X, clusters)\n",
    "#random_initialization(np.array([[1,1.5,4],[2,2.5,5]]), 3)\n",
    "#print(lloyds(X, 2))"
   ]
  },
  {
   "cell_type": "code",
   "execution_count": 51,
   "metadata": {},
   "outputs": [
    {
     "name": "stdout",
     "output_type": "stream",
     "text": [
      "4\n"
     ]
    },
    {
     "data": {
      "text/plain": [
       "[array([[-5.00000000e-01,  1.06800332e-16],\n",
       "        [-5.00000000e-01, -7.07106781e-01],\n",
       "        [-5.00000000e-01,  7.48699631e-18],\n",
       "        [-5.00000000e-01,  7.07106781e-01]]), array([2., 2., 2., 1.])]"
      ]
     },
     "execution_count": 51,
     "metadata": {},
     "output_type": "execute_result"
    }
   ],
   "source": [
    "#Transformation of kmeans for part (vi)\n",
    "import numpy as np\n",
    "from numpy import linalg as LA\n",
    "#Toy data\n",
    "X = np.array([[2,4],[3,1],[4,2],[5,6]])\n",
    "\n",
    "#Generating W from X and r\n",
    "def generate_W (X, r):\n",
    "    W = np.zeros((X.shape[0], X.shape[0]))\n",
    "    for data_ind in range(X.shape[0]):\n",
    "        X_current = X[data_ind]\n",
    "        all_distances = np.zeros(X.shape[0])\n",
    "        for possible_neighbor_ind in range(X.shape[0]):\n",
    "            all_distances[possible_neighbor_ind] = LA.norm(X_current - X[possible_neighbor_ind])\n",
    "        min_idx = np.argsort(all_distances)\n",
    "        for nearest_neighbors_ind in range(r+1):\n",
    "            if (min_idx[nearest_neighbors_ind] != data_ind):\n",
    "                W[data_ind, min_idx[nearest_neighbors_ind]] = 1\n",
    "                W[min_idx[nearest_neighbors_ind], data_ind] = 1\n",
    "    return W\n",
    "\n",
    "#Calculating D from W\n",
    "def calculate_D (W):\n",
    "    D = np.zeros((W.shape[0], W.shape[1]))\n",
    "    for i in range(W.shape[0]):\n",
    "        D[i,i] = np.sum(W[i,:])\n",
    "    return D\n",
    "\n",
    "#Running Lloyds on the transformed data V\n",
    "def flexible_lloyds (X, r, k):\n",
    "    V = np.zeros((X.shape[0], k))\n",
    "    W = generate_W(X,r)\n",
    "    D = calculate_D(W)\n",
    "    L = D - W\n",
    "    w,v = LA.eig(L)\n",
    "    abs_w = np.abs(w)\n",
    "    v_transpose = np.transpose(v)\n",
    "    min_eig_ind = np.argsort(abs_w)\n",
    "    #Setting datamatrix V as specified in problem statement\n",
    "    for bottom_eig_ind in range(k):\n",
    "        V[:, bottom_eig_ind] = v_transpose[min_eig_ind[bottom_eig_ind]]\n",
    "    #For purposes of calling our existing Lloyds algorithm, we will transpose V\n",
    "    lloyds_assignments = lloyds(V,k)[1]\n",
    "    return [V, lloyds_assignments]\n",
    "flexible_lloyds(X, 2, 2)"
   ]
  },
  {
   "cell_type": "code",
   "execution_count": 30,
   "metadata": {},
   "outputs": [
    {
     "name": "stderr",
     "output_type": "stream",
     "text": [
      "/Users/udainagpal/anaconda3/lib/python3.7/site-packages/ipykernel_launcher.py:37: ComplexWarning: Casting complex values to real discards the imaginary part\n"
     ]
    },
    {
     "data": {
      "text/plain": [
       "<matplotlib.collections.PathCollection at 0x1a235640f0>"
      ]
     },
     "execution_count": 30,
     "metadata": {},
     "output_type": "execute_result"
    },
    {
     "data": {
      "image/png": "[encoded data removed]",
      "text/plain": [
       "<Figure size 432x288 with 1 Axes>"
      ]
     },
     "metadata": {
      "needs_background": "light"
     },
     "output_type": "display_data"
    }
   ],
   "source": [
    "#Two Concentric Circles with r=1\n",
    "#TA On Piazza said we are allowed to use sklearn dataset\n",
    "from sklearn import datasets\n",
    "import matplotlib.pyplot\n",
    "%matplotlib inline  \n",
    "dataset = datasets.make_circles()\n",
    "X_concentric_circles = dataset[0]\n",
    "lloyds_results = flexible_lloyds(X_concentric_circles, 1, 2)\n",
    "transformed_data = lloyds_results[0]\n",
    "lloyds_assignments = lloyds_results[1]\n",
    "X_values = [point[0] for point in transformed_data]\n",
    "Y_values = [point[1] for point in transformed_data]\n",
    "#Mapping Lloyds Assignments to RGB Colors\n",
    "assignment_rgb_colors = []\n",
    "for label in lloyds_assignments:\n",
    "    if (label==1):\n",
    "        assignment_rgb_colors.append([1,0,0])\n",
    "    elif (label == 2):\n",
    "        assignment_rgb_colors.append([0,1,0])\n",
    "#Plotting Results\n",
    "matplotlib.pyplot.scatter(X_values, Y_values, c=assignment_rgb_colors)"
   ]
  },
  {
   "cell_type": "code",
   "execution_count": 32,
   "metadata": {},
   "outputs": [
    {
     "name": "stderr",
     "output_type": "stream",
     "text": [
      "/Users/udainagpal/anaconda3/lib/python3.7/site-packages/ipykernel_launcher.py:37: ComplexWarning: Casting complex values to real discards the imaginary part\n"
     ]
    },
    {
     "data": {
      "text/plain": [
       "<matplotlib.collections.PathCollection at 0x1a237dd278>"
      ]
     },
     "execution_count": 32,
     "metadata": {},
     "output_type": "execute_result"
    },
    {
     "data": {
      "image/png": "[encoded data removed]",
      "text/plain": [
       "<Figure size 432x288 with 1 Axes>"
      ]
     },
     "metadata": {
      "needs_background": "light"
     },
     "output_type": "display_data"
    }
   ],
   "source": [
    "#Two Concentric Circles with r=2\n",
    "#TA On Piazza said we are allowed to use sklearn dataset\n",
    "from sklearn import datasets\n",
    "import matplotlib.pyplot\n",
    "%matplotlib inline  \n",
    "dataset = datasets.make_circles()\n",
    "X_concentric_circles = dataset[0]\n",
    "lloyds_results = flexible_lloyds(X_concentric_circles, 2, 2)\n",
    "transformed_data = lloyds_results[0]\n",
    "lloyds_assignments = lloyds_results[1]\n",
    "X_values = [point[0] for point in transformed_data]\n",
    "Y_values = [point[1] for point in transformed_data]\n",
    "#Mapping Lloyds Assignments to RGB Colors\n",
    "assignment_rgb_colors = []\n",
    "for label in lloyds_assignments:\n",
    "    if (label==1):\n",
    "        assignment_rgb_colors.append([1,0,0])\n",
    "    elif (label == 2):\n",
    "        assignment_rgb_colors.append([0,1,0])\n",
    "#Plotting Results\n",
    "matplotlib.pyplot.scatter(X_values, Y_values, c=assignment_rgb_colors)"
   ]
  },
  {
   "cell_type": "code",
   "execution_count": 22,
   "metadata": {},
   "outputs": [
    {
     "name": "stderr",
     "output_type": "stream",
     "text": [
      "/Users/udainagpal/anaconda3/lib/python3.7/site-packages/ipykernel_launcher.py:37: ComplexWarning: Casting complex values to real discards the imaginary part\n"
     ]
    },
    {
     "data": {
      "text/plain": [
       "<matplotlib.collections.PathCollection at 0x1a231df9e8>"
      ]
     },
     "execution_count": 22,
     "metadata": {},
     "output_type": "execute_result"
    },
    {
     "data": {
      "image/png": "[encoded data removed]",
      "text/plain": [
       "<Figure size 432x288 with 1 Axes>"
      ]
     },
     "metadata": {
      "needs_background": "light"
     },
     "output_type": "display_data"
    }
   ],
   "source": [
    "#Two Concentric Circles with r=20\n",
    "#TA On Piazza said we are allowed to use sklearn dataset\n",
    "from sklearn import datasets\n",
    "import matplotlib.pyplot\n",
    "%matplotlib inline  \n",
    "dataset = datasets.make_circles()\n",
    "X_concentric_circles = dataset[0]\n",
    "lloyds_results = flexible_lloyds(X_concentric_circles, 20, 2)\n",
    "transformed_data = lloyds_results[0]\n",
    "lloyds_assignments = lloyds_results[1]\n",
    "X_values = [point[0] for point in transformed_data]\n",
    "Y_values = [point[1] for point in transformed_data]\n",
    "#Mapping Lloyds Assignments to RGB Colors\n",
    "assignment_rgb_colors = []\n",
    "for label in lloyds_assignments:\n",
    "    if (label==1):\n",
    "        assignment_rgb_colors.append([1,0,0])\n",
    "    elif (label == 2):\n",
    "        assignment_rgb_colors.append([0,1,0])\n",
    "#Plotting Results\n",
    "matplotlib.pyplot.scatter(X_values, Y_values, c=assignment_rgb_colors)"
   ]
  },
  {
   "cell_type": "code",
   "execution_count": 25,
   "metadata": {},
   "outputs": [
    {
     "data": {
      "text/plain": [
       "<matplotlib.collections.PathCollection at 0x1a2337fc88>"
      ]
     },
     "execution_count": 25,
     "metadata": {},
     "output_type": "execute_result"
    },
    {
     "data": {
      "image/png": "[encoded data removed]",
      "text/plain": [
       "<Figure size 432x288 with 1 Axes>"
      ]
     },
     "metadata": {
      "needs_background": "light"
     },
     "output_type": "display_data"
    }
   ],
   "source": [
    "#Example Dataset #1 (nonlinear curves) with r=1\n",
    "X_example_1 = np.array([[-4,2],[-4,5],[-3.25,2],[-2.75,5],[-1,0.4],[-2.75,5],[-1,4.75],[-0.5,4.5],[-1.5,1.75],\n",
    "                        [0.25,3.5], [0.5,2.5],[0.5,1],[0.55,-0.5],[0.55,-1.5], [-1, -0.25],[-1,-1.5],[-1,-2.5],\n",
    "                        [-1,-3.5],[-1,-4], [0.55,-2.5], [0.55,-3.5], [-2,5], [-2.5,2], [-3.5,5]])\n",
    "lloyds_results = flexible_lloyds(X_example_1, 1, 2)\n",
    "transformed_data = lloyds_results[0]\n",
    "lloyds_assignments = lloyds_results[1]\n",
    "X_values = [point[0] for point in transformed_data]\n",
    "Y_values = [point[1] for point in transformed_data]\n",
    "assignment_rgb_colors = []\n",
    "for label in lloyds_assignments:\n",
    "    if (label==1):\n",
    "        assignment_rgb_colors.append([1,0,0])\n",
    "    elif (label == 2):\n",
    "        assignment_rgb_colors.append([0,1,0])\n",
    "matplotlib.pyplot.scatter(X_values, Y_values, c=assignment_rgb_colors)"
   ]
  },
  {
   "cell_type": "code",
   "execution_count": 36,
   "metadata": {},
   "outputs": [
    {
     "data": {
      "text/plain": [
       "<matplotlib.collections.PathCollection at 0x1a23a7ef98>"
      ]
     },
     "execution_count": 36,
     "metadata": {},
     "output_type": "execute_result"
    },
    {
     "data": {
      "image/png": "[encoded data removed]",
      "text/plain": [
       "<Figure size 432x288 with 1 Axes>"
      ]
     },
     "metadata": {
      "needs_background": "light"
     },
     "output_type": "display_data"
    }
   ],
   "source": [
    "#Example Dataset #1 (nonlinear curves) with r=2\n",
    "X_example_1 = np.array([[-4,2],[-4,5],[-3.25,2],[-2.75,5],[-1,0.4],[-2.75,5],[-1,4.75],[-0.5,4.5],[-1.5,1.75],\n",
    "                        [0.25,3.5], [0.5,2.5],[0.5,1],[0.55,-0.5],[0.55,-1.5], [-1, -0.25],[-1,-1.5],[-1,-2.5],\n",
    "                        [-1,-3.5],[-1,-4], [0.55,-2.5], [0.55,-3.5], [-2,5], [-2.5,2], [-3.5,5]])\n",
    "lloyds_results = flexible_lloyds(X_example_1, 2, 2)\n",
    "transformed_data = lloyds_results[0]\n",
    "lloyds_assignments = lloyds_results[1]\n",
    "X_values = [point[0] for point in transformed_data]\n",
    "Y_values = [point[1] for point in transformed_data]\n",
    "assignment_rgb_colors = []\n",
    "for label in lloyds_assignments:\n",
    "    if (label==1):\n",
    "        assignment_rgb_colors.append([1,0,0])\n",
    "    elif (label == 2):\n",
    "        assignment_rgb_colors.append([0,1,0])\n",
    "matplotlib.pyplot.scatter(X_values, Y_values, c=assignment_rgb_colors)"
   ]
  },
  {
   "cell_type": "code",
   "execution_count": 27,
   "metadata": {},
   "outputs": [
    {
     "data": {
      "text/plain": [
       "<matplotlib.collections.PathCollection at 0x1a234faf60>"
      ]
     },
     "execution_count": 27,
     "metadata": {},
     "output_type": "execute_result"
    },
    {
     "data": {
      "image/png": "[encoded data removed]",
      "text/plain": [
       "<Figure size 432x288 with 1 Axes>"
      ]
     },
     "metadata": {
      "needs_background": "light"
     },
     "output_type": "display_data"
    }
   ],
   "source": [
    "#Example Dataset #1 (nonlinear curves) with r=20\n",
    "X_example_1 = np.array([[-4,2],[-4,5],[-3.25,2],[-2.75,5],[-1,0.4],[-2.75,5],[-1,4.75],[-0.5,4.5],[-1.5,1.75],\n",
    "                        [0.25,3.5], [0.5,2.5],[0.5,1],[0.55,-0.5],[0.55,-1.5], [-1, -0.25],[-1,-1.5],[-1,-2.5],\n",
    "                        [-1,-3.5],[-1,-4], [0.55,-2.5], [0.55,-3.5], [-2,5], [-2.5,2], [-3.5,5]])\n",
    "lloyds_results = flexible_lloyds(X_example_1, 20, 2)\n",
    "transformed_data = lloyds_results[0]\n",
    "lloyds_assignments = lloyds_results[1]\n",
    "X_values = [point[0] for point in transformed_data]\n",
    "Y_values = [point[1] for point in transformed_data]\n",
    "assignment_rgb_colors = []\n",
    "for label in lloyds_assignments:\n",
    "    if (label==1):\n",
    "        assignment_rgb_colors.append([1,0,0])\n",
    "    elif (label == 2):\n",
    "        assignment_rgb_colors.append([0,1,0])\n",
    "matplotlib.pyplot.scatter(X_values, Y_values, c=assignment_rgb_colors)"
   ]
  },
  {
   "cell_type": "code",
   "execution_count": 40,
   "metadata": {},
   "outputs": [
    {
     "data": {
      "text/plain": [
       "<matplotlib.collections.PathCollection at 0x1a23df6b38>"
      ]
     },
     "execution_count": 40,
     "metadata": {},
     "output_type": "execute_result"
    },
    {
     "data": {
      "image/png": "[encoded data removed]",
      "text/plain": [
       "<Figure size 432x288 with 1 Axes>"
      ]
     },
     "metadata": {
      "needs_background": "light"
     },
     "output_type": "display_data"
    }
   ],
   "source": [
    "#Example Dataset #2 with r=2\n",
    "X_example_2 = np.array([[1.56,0.46],[1.45,0.4],[2,0.6],[-4.7,0.5],[-6,1.25],[-4,0],[-4.5,0.1],\n",
    "                        [-4,-0.5], [-4.5,-0.5], [-5,0.7], [-4.25,-2], [-2.75, -1.5], [-2,-2], [-1,-1.1], \n",
    "                        [-0.5, -0.5], [0.5,-0.25],[1.25,-0.9], [0.75,-2], [2.75,-2],[2.75,-1], [-3,-1],\n",
    "                       [3.25,-0.3], [3.75, -0.7], [4.5, -1.05], [5,-0.9], [1.25,0.2],[-1.25,2.9],[-3,3],\n",
    "                       [-2.75,2], [-2,2.1], [-1,1.75], [0, 2.5], [-1.57,1], [-2,1.5],\n",
    "                       [-2.25, 1], [-1.9, 0.7], [-2, 3], [-0.5,2.5], [-3, 2.6], [-1.5, 2.3], [-2, -1.5],\n",
    "                       [-2, -1], [2.6,1], [-1.5, 1.4], [-2.2, 2.5]])\n",
    "lloyds_results = flexible_lloyds(X_example_2, 2, 2)\n",
    "transformed_data = lloyds_results[0]\n",
    "lloyds_assignments = lloyds_results[1]\n",
    "X_values = [point[0] for point in transformed_data]\n",
    "Y_values = [point[1] for point in transformed_data]\n",
    "assignment_rgb_colors = []\n",
    "for label in lloyds_assignments:\n",
    "    if (label==1):\n",
    "        assignment_rgb_colors.append([1,0,0])\n",
    "    elif (label == 2):\n",
    "        assignment_rgb_colors.append([0,1,0])\n",
    "matplotlib.pyplot.scatter(X_values, Y_values, c=assignment_rgb_colors)"
   ]
  },
  {
   "cell_type": "code",
   "execution_count": 57,
   "metadata": {},
   "outputs": [
    {
     "name": "stdout",
     "output_type": "stream",
     "text": [
      "45\n"
     ]
    },
    {
     "data": {
      "text/plain": [
       "<matplotlib.collections.PathCollection at 0x1a2489d940>"
      ]
     },
     "execution_count": 57,
     "metadata": {},
     "output_type": "execute_result"
    },
    {
     "data": {
      "image/png": "[encoded data removed]",
      "text/plain": [
       "<Figure size 432x288 with 1 Axes>"
      ]
     },
     "metadata": {
      "needs_background": "light"
     },
     "output_type": "display_data"
    }
   ],
   "source": [
    "#Example Dataset #2 with r=3\n",
    "X_example_2 = np.array([[1.56,0.46],[1.45,0.4],[2,0.6],[-4.7,0.5],[-6,1.25],[-4,0],[-4.5,0.1],\n",
    "                        [-4,-0.5], [-4.5,-0.5], [-5,0.7], [-4.25,-2], [-2.75, -1.5], [-2,-2], [-1,-1.1], \n",
    "                        [-0.5, -0.5], [0.5,-0.25],[1.25,-0.9], [0.75,-2], [2.75,-2],[2.75,-1], [-3,-1],\n",
    "                       [3.25,-0.3], [3.75, -0.7], [4.5, -1.05], [5,-0.9], [1.25,0.2],[-1.25,2.9],[-3,3],\n",
    "                       [-2.75,2], [-2,2.1], [-1,1.75], [0, 2.5], [-1.57,1], [-2,1.5],\n",
    "                       [-2.25, 1], [-1.9, 0.7], [-2, 3], [-0.5,2.5], [-3, 2.6], [-1.5, 2.3], [-2, -1.5],\n",
    "                       [-2, -1], [2.6,1], [-1.5, 1.4], [-2.2, 2.5]])\n",
    "lloyds_results = flexible_lloyds(X_example_2, 3, 2)\n",
    "transformed_data = lloyds_results[0]\n",
    "lloyds_assignments = lloyds_results[1]\n",
    "X_values = [point[0] for point in transformed_data]\n",
    "Y_values = [point[1] for point in transformed_data]\n",
    "assignment_rgb_colors = []\n",
    "for label in lloyds_assignments:\n",
    "    if (label==1):\n",
    "        assignment_rgb_colors.append([1,0,0])\n",
    "    elif (label == 2):\n",
    "        assignment_rgb_colors.append([0,1,0])\n",
    "matplotlib.pyplot.scatter(X_values, Y_values, c=assignment_rgb_colors)"
   ]
  },
  {
   "cell_type": "code",
   "execution_count": 41,
   "metadata": {},
   "outputs": [
    {
     "data": {
      "text/plain": [
       "<matplotlib.collections.PathCollection at 0x1a23e50860>"
      ]
     },
     "execution_count": 41,
     "metadata": {},
     "output_type": "execute_result"
    },
    {
     "data": {
      "image/png": "[encoded data removed]",
      "text/plain": [
       "<Figure size 432x288 with 1 Axes>"
      ]
     },
     "metadata": {
      "needs_background": "light"
     },
     "output_type": "display_data"
    }
   ],
   "source": [
    "#Example Dataset #2 with r=20\n",
    "X_example_2 = np.array([[1.56,0.46],[1.45,0.4],[2,0.6],[-4.7,0.5],[-6,1.25],[-4,0],[-4.5,0.1],\n",
    "                        [-4,-0.5], [-4.5,-0.5], [-5,0.7], [-4.25,-2], [-2.75, -1.5], [-2,-2], [-1,-1.1], \n",
    "                        [-0.5, -0.5], [0.5,-0.25],[1.25,-0.9], [0.75,-2], [2.75,-2],[2.75,-1], [-3,-1],\n",
    "                       [3.25,-0.3], [3.75, -0.7], [4.5, -1.05], [5,-0.9], [1.25,0.2],[-1.25,2.9],[-3,3],\n",
    "                       [-2.75,2], [-2,2.1], [-1,1.75], [0, 2.5], [-1.57,1], [-2,1.5],\n",
    "                       [-2.25, 1], [-1.9, 0.7], [-2, 3], [-0.5,2.5], [-3, 2.6], [-1.5, 2.3], [-2, -1.5],\n",
    "                       [-2, -1], [2.6,1], [-1.5, 1.4], [-2.2, 2.5]])\n",
    "lloyds_results = flexible_lloyds(X_example_2, 20, 2)\n",
    "transformed_data = lloyds_results[0]\n",
    "lloyds_assignments = lloyds_results[1]\n",
    "X_values = [point[0] for point in transformed_data]\n",
    "Y_values = [point[1] for point in transformed_data]\n",
    "assignment_rgb_colors = []\n",
    "for label in lloyds_assignments:\n",
    "    if (label==1):\n",
    "        assignment_rgb_colors.append([1,0,0])\n",
    "    elif (label == 2):\n",
    "        assignment_rgb_colors.append([0,1,0])\n",
    "matplotlib.pyplot.scatter(X_values, Y_values, c=assignment_rgb_colors)"
   ]
  },
  {
   "cell_type": "code",
   "execution_count": null,
   "metadata": {},
   "outputs": [],
   "source": []
  }
 ],
 "metadata": {
  "kernelspec": {
   "display_name": "Python 3",
   "language": "python",
   "name": "python3"
  },
  "language_info": {
   "codemirror_mode": {
    "name": "ipython",
    "version": 3
   },
   "file_extension": ".py",
   "mimetype": "text/x-python",
   "name": "python",
   "nbconvert_exporter": "python",
   "pygments_lexer": "ipython3",
   "version": "3.7.1"
  }
 },
 "nbformat": 4,
 "nbformat_minor": 2
}
