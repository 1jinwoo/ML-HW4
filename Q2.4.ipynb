{
 "cells": [
  {
   "cell_type": "code",
   "execution_count": 1,
   "metadata": {},
   "outputs": [],
   "source": [
    "import numpy as np\n",
    "import pandas as pd\n",
    "import matplotlib.pyplot as plt"
   ]
  },
  {
   "cell_type": "code",
   "execution_count": 48,
   "metadata": {},
   "outputs": [
    {
     "data": {
      "text/html": [
       "<div>\n",
       "<style scoped>\n",
       "    .dataframe tbody tr th:only-of-type {\n",
       "        vertical-align: middle;\n",
       "    }\n",
       "\n",
       "    .dataframe tbody tr th {\n",
       "        vertical-align: top;\n",
       "    }\n",
       "\n",
       "    .dataframe thead th {\n",
       "        text-align: right;\n",
       "    }\n",
       "</style>\n",
       "<table border=\"1\" class=\"dataframe\">\n",
       "  <thead>\n",
       "    <tr style=\"text-align: right;\">\n",
       "      <th></th>\n",
       "      <th>BOS</th>\n",
       "      <th>NYC</th>\n",
       "      <th>DC</th>\n",
       "      <th>MIA</th>\n",
       "      <th>CHI</th>\n",
       "      <th>SEA</th>\n",
       "      <th>SF</th>\n",
       "      <th>LA</th>\n",
       "      <th>DEN</th>\n",
       "    </tr>\n",
       "    <tr>\n",
       "      <th></th>\n",
       "      <th></th>\n",
       "      <th></th>\n",
       "      <th></th>\n",
       "      <th></th>\n",
       "      <th></th>\n",
       "      <th></th>\n",
       "      <th></th>\n",
       "      <th></th>\n",
       "      <th></th>\n",
       "    </tr>\n",
       "  </thead>\n",
       "  <tbody>\n",
       "    <tr>\n",
       "      <th>BOS</th>\n",
       "      <td>0</td>\n",
       "      <td>206</td>\n",
       "      <td>429</td>\n",
       "      <td>1504</td>\n",
       "      <td>963</td>\n",
       "      <td>2976</td>\n",
       "      <td>3095</td>\n",
       "      <td>2979</td>\n",
       "      <td>1949</td>\n",
       "    </tr>\n",
       "    <tr>\n",
       "      <th>NYC</th>\n",
       "      <td>206</td>\n",
       "      <td>0</td>\n",
       "      <td>233</td>\n",
       "      <td>1308</td>\n",
       "      <td>802</td>\n",
       "      <td>2815</td>\n",
       "      <td>2934</td>\n",
       "      <td>2786</td>\n",
       "      <td>1771</td>\n",
       "    </tr>\n",
       "    <tr>\n",
       "      <th>DC</th>\n",
       "      <td>429</td>\n",
       "      <td>233</td>\n",
       "      <td>0</td>\n",
       "      <td>1075</td>\n",
       "      <td>671</td>\n",
       "      <td>2684</td>\n",
       "      <td>2799</td>\n",
       "      <td>2631</td>\n",
       "      <td>1616</td>\n",
       "    </tr>\n",
       "    <tr>\n",
       "      <th>MIA</th>\n",
       "      <td>1504</td>\n",
       "      <td>1308</td>\n",
       "      <td>1075</td>\n",
       "      <td>0</td>\n",
       "      <td>1329</td>\n",
       "      <td>3273</td>\n",
       "      <td>3053</td>\n",
       "      <td>2687</td>\n",
       "      <td>2037</td>\n",
       "    </tr>\n",
       "    <tr>\n",
       "      <th>CHI</th>\n",
       "      <td>963</td>\n",
       "      <td>802</td>\n",
       "      <td>671</td>\n",
       "      <td>1329</td>\n",
       "      <td>0</td>\n",
       "      <td>2013</td>\n",
       "      <td>2142</td>\n",
       "      <td>2054</td>\n",
       "      <td>996</td>\n",
       "    </tr>\n",
       "    <tr>\n",
       "      <th>SEA</th>\n",
       "      <td>2976</td>\n",
       "      <td>2815</td>\n",
       "      <td>2684</td>\n",
       "      <td>3273</td>\n",
       "      <td>2013</td>\n",
       "      <td>0</td>\n",
       "      <td>808</td>\n",
       "      <td>1131</td>\n",
       "      <td>1307</td>\n",
       "    </tr>\n",
       "    <tr>\n",
       "      <th>SF</th>\n",
       "      <td>3095</td>\n",
       "      <td>2934</td>\n",
       "      <td>2799</td>\n",
       "      <td>3053</td>\n",
       "      <td>2142</td>\n",
       "      <td>808</td>\n",
       "      <td>0</td>\n",
       "      <td>379</td>\n",
       "      <td>1235</td>\n",
       "    </tr>\n",
       "    <tr>\n",
       "      <th>LA</th>\n",
       "      <td>2979</td>\n",
       "      <td>2786</td>\n",
       "      <td>2631</td>\n",
       "      <td>2687</td>\n",
       "      <td>2054</td>\n",
       "      <td>1131</td>\n",
       "      <td>379</td>\n",
       "      <td>0</td>\n",
       "      <td>1059</td>\n",
       "    </tr>\n",
       "    <tr>\n",
       "      <th>DEN</th>\n",
       "      <td>1949</td>\n",
       "      <td>1771</td>\n",
       "      <td>1616</td>\n",
       "      <td>2037</td>\n",
       "      <td>996</td>\n",
       "      <td>1307</td>\n",
       "      <td>1235</td>\n",
       "      <td>1059</td>\n",
       "      <td>0</td>\n",
       "    </tr>\n",
       "  </tbody>\n",
       "</table>\n",
       "</div>"
      ],
      "text/plain": [
       "       BOS     NYC     DC      MIA     CHI     SEA     SF      LA      DEN  \n",
       "                                                                            \n",
       "BOS        0     206     429    1504     963    2976    3095    2979    1949\n",
       "NYC      206       0     233    1308     802    2815    2934    2786    1771\n",
       "DC       429     233       0    1075     671    2684    2799    2631    1616\n",
       "MIA     1504    1308    1075       0    1329    3273    3053    2687    2037\n",
       "CHI      963     802     671    1329       0    2013    2142    2054     996\n",
       "SEA     2976    2815    2684    3273    2013       0     808    1131    1307\n",
       "SF      3095    2934    2799    3053    2142     808       0     379    1235\n",
       "LA      2979    2786    2631    2687    2054    1131     379       0    1059\n",
       "DEN     1949    1771    1616    2037     996    1307    1235    1059       0"
      ]
     },
     "execution_count": 48,
     "metadata": {},
     "output_type": "execute_result"
    }
   ],
   "source": [
    "df = pd.read_csv('./hw4_data.csv', index_col=0)\n",
    "df"
   ]
  },
  {
   "cell_type": "code",
   "execution_count": 200,
   "metadata": {},
   "outputs": [
    {
     "data": {
      "text/plain": [
       "Index([' BOS  ', ' NYC  ', ' DC   ', ' MIA  ', ' CHI  ', ' SEA  ', ' SF   ',\n",
       "       ' LA   ', ' DEN  '],\n",
       "      dtype='object')"
      ]
     },
     "execution_count": 200,
     "metadata": {},
     "output_type": "execute_result"
    }
   ],
   "source": [
    "cities = df.columns\n",
    "cities"
   ]
  },
  {
   "cell_type": "code",
   "execution_count": 68,
   "metadata": {},
   "outputs": [
    {
     "data": {
      "text/plain": [
       "array([[   0,  206,  429, 1504,  963, 2976, 3095, 2979, 1949],\n",
       "       [ 206,    0,  233, 1308,  802, 2815, 2934, 2786, 1771],\n",
       "       [ 429,  233,    0, 1075,  671, 2684, 2799, 2631, 1616],\n",
       "       [1504, 1308, 1075,    0, 1329, 3273, 3053, 2687, 2037],\n",
       "       [ 963,  802,  671, 1329,    0, 2013, 2142, 2054,  996],\n",
       "       [2976, 2815, 2684, 3273, 2013,    0,  808, 1131, 1307],\n",
       "       [3095, 2934, 2799, 3053, 2142,  808,    0,  379, 1235],\n",
       "       [2979, 2786, 2631, 2687, 2054, 1131,  379,    0, 1059],\n",
       "       [1949, 1771, 1616, 2037,  996, 1307, 1235, 1059,    0]],\n",
       "      dtype=int64)"
      ]
     },
     "execution_count": 68,
     "metadata": {},
     "output_type": "execute_result"
    }
   ],
   "source": [
    "D = df.to_numpy()\n",
    "D"
   ]
  },
  {
   "cell_type": "code",
   "execution_count": 69,
   "metadata": {},
   "outputs": [
    {
     "data": {
      "text/plain": [
       "9"
      ]
     },
     "execution_count": 69,
     "metadata": {},
     "output_type": "execute_result"
    }
   ],
   "source": [
    "n = D.shape[0]\n",
    "n"
   ]
  },
  {
   "cell_type": "code",
   "execution_count": 70,
   "metadata": {},
   "outputs": [
    {
     "data": {
      "text/plain": [
       "array([[ 0.88888889, -0.11111111, -0.11111111, -0.11111111, -0.11111111,\n",
       "        -0.11111111, -0.11111111, -0.11111111, -0.11111111],\n",
       "       [-0.11111111,  0.88888889, -0.11111111, -0.11111111, -0.11111111,\n",
       "        -0.11111111, -0.11111111, -0.11111111, -0.11111111],\n",
       "       [-0.11111111, -0.11111111,  0.88888889, -0.11111111, -0.11111111,\n",
       "        -0.11111111, -0.11111111, -0.11111111, -0.11111111],\n",
       "       [-0.11111111, -0.11111111, -0.11111111,  0.88888889, -0.11111111,\n",
       "        -0.11111111, -0.11111111, -0.11111111, -0.11111111],\n",
       "       [-0.11111111, -0.11111111, -0.11111111, -0.11111111,  0.88888889,\n",
       "        -0.11111111, -0.11111111, -0.11111111, -0.11111111],\n",
       "       [-0.11111111, -0.11111111, -0.11111111, -0.11111111, -0.11111111,\n",
       "         0.88888889, -0.11111111, -0.11111111, -0.11111111],\n",
       "       [-0.11111111, -0.11111111, -0.11111111, -0.11111111, -0.11111111,\n",
       "        -0.11111111,  0.88888889, -0.11111111, -0.11111111],\n",
       "       [-0.11111111, -0.11111111, -0.11111111, -0.11111111, -0.11111111,\n",
       "        -0.11111111, -0.11111111,  0.88888889, -0.11111111],\n",
       "       [-0.11111111, -0.11111111, -0.11111111, -0.11111111, -0.11111111,\n",
       "        -0.11111111, -0.11111111, -0.11111111,  0.88888889]])"
      ]
     },
     "execution_count": 70,
     "metadata": {},
     "output_type": "execute_result"
    }
   ],
   "source": [
    "H = np.identity(n) + ((-1/n) * np.ones((n, n)))\n",
    "H"
   ]
  },
  {
   "cell_type": "code",
   "execution_count": 71,
   "metadata": {},
   "outputs": [
    {
     "data": {
      "text/plain": [
       "array([[ 780.        ,  607.77777778,  456.44444444,  148.27777778,\n",
       "         124.55555556, -546.55555556, -637.27777778, -620.33333333,\n",
       "        -312.88888889],\n",
       "       [ 607.77777778,  641.55555556,  485.22222222,  177.05555556,\n",
       "         135.83333333, -535.27777778, -626.        , -593.05555556,\n",
       "        -293.11111111],\n",
       "       [ 456.44444444,  485.22222222,  561.88888889,  253.72222222,\n",
       "         161.5       , -509.61111111, -598.33333333, -555.38888889,\n",
       "        -255.44444444],\n",
       "       [ 148.27777778,  177.05555556,  253.72222222, 1020.55555556,\n",
       "          61.83333333, -574.77777778, -496.        , -354.05555556,\n",
       "        -236.61111111],\n",
       "       [ 124.55555556,  135.83333333,  161.5       ,   61.83333333,\n",
       "         432.11111111, -239.        , -334.72222222, -331.77777778,\n",
       "         -10.33333333],\n",
       "       [-546.55555556, -535.27777778, -509.61111111, -574.77777778,\n",
       "        -239.        , 1102.88888889,  667.66666667,  465.11111111,\n",
       "         169.55555556],\n",
       "       [-637.27777778, -626.        , -598.33333333, -496.        ,\n",
       "        -334.72222222,  667.66666667, 1040.44444444,  809.88888889,\n",
       "         174.33333333],\n",
       "       [-620.33333333, -593.05555556, -555.38888889, -354.05555556,\n",
       "        -331.77777778,  465.11111111,  809.88888889,  958.33333333,\n",
       "         221.27777778],\n",
       "       [-312.88888889, -293.11111111, -255.44444444, -236.61111111,\n",
       "         -10.33333333,  169.55555556,  174.33333333,  221.27777778,\n",
       "         543.22222222]])"
      ]
     },
     "execution_count": 71,
     "metadata": {},
     "output_type": "execute_result"
    }
   ],
   "source": [
    "# Gram matrix\n",
    "B = -0.5 * (H.T @ D @ H)\n",
    "B"
   ]
  },
  {
   "cell_type": "code",
   "execution_count": 72,
   "metadata": {},
   "outputs": [
    {
     "data": {
      "text/plain": [
       "(array([[-3.33333333e-01,  4.31424729e-01, -1.19128491e-01,\n",
       "         -5.71775804e-01,  1.94064299e-01, -1.49351873e-01,\n",
       "          2.76648573e-01,  3.12586515e-01, -3.56974409e-01],\n",
       "        [-3.33333333e-01, -7.98114853e-01, -3.72413861e-03,\n",
       "          1.02239399e-01,  9.94947984e-02, -1.09026492e-01,\n",
       "          2.04810236e-01,  2.43927865e-01, -3.43803403e-01],\n",
       "        [-3.33333333e-01,  4.17210694e-01,  1.92806958e-01,\n",
       "          7.46723932e-01, -4.51206838e-02, -6.76760192e-03,\n",
       "          7.29008721e-02,  1.03849971e-01, -3.19173843e-01],\n",
       "        [-3.33333333e-01, -3.02120020e-02,  3.28052622e-02,\n",
       "         -1.36240046e-01,  1.17735799e-01,  3.53570838e-01,\n",
       "          6.06971558e-02, -8.09955151e-01, -2.64108011e-01],\n",
       "        [-3.33333333e-01, -2.29464548e-02, -1.44588958e-01,\n",
       "         -1.67100906e-01, -7.47241706e-01,  4.38541862e-02,\n",
       "         -5.02061682e-01,  8.01588663e-02, -1.44044911e-01],\n",
       "        [-3.33333333e-01, -2.68624667e-04, -1.84762144e-01,\n",
       "          3.89306136e-02,  1.69073771e-01,  7.39654626e-01,\n",
       "          1.37037704e-02,  3.40682983e-01,  4.01632393e-01],\n",
       "        [-3.33333333e-01, -2.14556202e-02,  6.81806103e-01,\n",
       "         -1.61926317e-01, -2.59304891e-01, -1.48872155e-01,\n",
       "          3.16990792e-01, -3.41942651e-02,  4.54196539e-01],\n",
       "        [-3.33333333e-01,  2.98466332e-02, -6.30118838e-01,\n",
       "          1.73772311e-01, -5.69988730e-02, -4.25425372e-01,\n",
       "          2.37149958e-01, -2.28571927e-01,  4.09915423e-01],\n",
       "        [-3.33333333e-01, -5.48450180e-03,  1.74904247e-01,\n",
       "         -2.46231818e-02,  5.28297486e-01, -2.97636157e-01,\n",
       "         -6.80839674e-01, -8.48485757e-03,  1.62360222e-01]]),\n",
       " array([2.98904781e-13, 7.31335683e+01, 1.48428401e+02, 1.78743408e+02,\n",
       "        3.01607332e+02, 5.37758483e+02, 6.37703447e+02, 9.89785861e+02,\n",
       "        4.21383950e+03]))"
      ]
     },
     "execution_count": 72,
     "metadata": {},
     "output_type": "execute_result"
    }
   ],
   "source": [
    "lambdas, Q = np.linalg.eigh(B)\n",
    "Q, lambdas"
   ]
  },
  {
   "cell_type": "code",
   "execution_count": 81,
   "metadata": {},
   "outputs": [
    {
     "data": {
      "text/plain": [
       "array([4213.83949895,  989.78586123,  637.70344714,  537.75848324,\n",
       "        301.60733181,  178.74340799,  148.42840137,   73.13356827,\n",
       "          0.        ])"
      ]
     },
     "execution_count": 81,
     "metadata": {},
     "output_type": "execute_result"
    }
   ],
   "source": [
    "lambdas = [l if l > 1e-10 else 0 for l in lambdas]\n",
    "lambdas.sort(reverse=True)\n",
    "lambdas = np.array(lambdas)\n",
    "lambdas"
   ]
  },
  {
   "cell_type": "code",
   "execution_count": 82,
   "metadata": {},
   "outputs": [
    {
     "data": {
      "text/plain": [
       "array([64.91409322, 31.46086237, 25.25279088, 23.18962016, 17.36684576,\n",
       "       13.36949543, 12.18311953,  8.55181666,  0.        ])"
      ]
     },
     "execution_count": 82,
     "metadata": {},
     "output_type": "execute_result"
    }
   ],
   "source": [
    "lambdas_sqrt = lambdas ** 0.5\n",
    "lambdas_sqrt"
   ]
  },
  {
   "cell_type": "code",
   "execution_count": 83,
   "metadata": {},
   "outputs": [
    {
     "data": {
      "text/plain": [
       "array([[4213.83949895,    0.        ,    0.        ,    0.        ,\n",
       "           0.        ,    0.        ,    0.        ,    0.        ,\n",
       "           0.        ],\n",
       "       [   0.        ,  989.78586123,    0.        ,    0.        ,\n",
       "           0.        ,    0.        ,    0.        ,    0.        ,\n",
       "           0.        ],\n",
       "       [   0.        ,    0.        ,  637.70344714,    0.        ,\n",
       "           0.        ,    0.        ,    0.        ,    0.        ,\n",
       "           0.        ],\n",
       "       [   0.        ,    0.        ,    0.        ,  537.75848324,\n",
       "           0.        ,    0.        ,    0.        ,    0.        ,\n",
       "           0.        ],\n",
       "       [   0.        ,    0.        ,    0.        ,    0.        ,\n",
       "         301.60733181,    0.        ,    0.        ,    0.        ,\n",
       "           0.        ],\n",
       "       [   0.        ,    0.        ,    0.        ,    0.        ,\n",
       "           0.        ,  178.74340799,    0.        ,    0.        ,\n",
       "           0.        ],\n",
       "       [   0.        ,    0.        ,    0.        ,    0.        ,\n",
       "           0.        ,    0.        ,  148.42840137,    0.        ,\n",
       "           0.        ],\n",
       "       [   0.        ,    0.        ,    0.        ,    0.        ,\n",
       "           0.        ,    0.        ,    0.        ,   73.13356827,\n",
       "           0.        ],\n",
       "       [   0.        ,    0.        ,    0.        ,    0.        ,\n",
       "           0.        ,    0.        ,    0.        ,    0.        ,\n",
       "           0.        ]])"
      ]
     },
     "execution_count": 83,
     "metadata": {},
     "output_type": "execute_result"
    }
   ],
   "source": [
    "Lambda_sqrt = np.diag(lambdas)\n",
    "Lambda_sqrt"
   ]
  },
  {
   "cell_type": "code",
   "execution_count": 173,
   "metadata": {},
   "outputs": [],
   "source": [
    "k = 3"
   ]
  },
  {
   "cell_type": "code",
   "execution_count": 194,
   "metadata": {
    "scrolled": false
   },
   "outputs": [
    {
     "data": {
      "text/plain": [
       "array([[-1.40461317e+03,  4.27018097e+02, -7.59686495e+01,\n",
       "         0.00000000e+00,  0.00000000e+00,  0.00000000e+00,\n",
       "         0.00000000e+00,  0.00000000e+00,  0.00000000e+00],\n",
       "       [-1.40461317e+03, -7.89962797e+02, -2.37489603e+00,\n",
       "         0.00000000e+00,  0.00000000e+00,  0.00000000e+00,\n",
       "         0.00000000e+00,  0.00000000e+00,  0.00000000e+00],\n",
       "       [-1.40461317e+03,  4.12949246e+02,  1.22953662e+02,\n",
       "         0.00000000e+00,  0.00000000e+00,  0.00000000e+00,\n",
       "         0.00000000e+00,  0.00000000e+00,  0.00000000e+00],\n",
       "       [-1.40461317e+03, -2.99034124e+01,  2.09200288e+01,\n",
       "         0.00000000e+00,  0.00000000e+00,  0.00000000e+00,\n",
       "         0.00000000e+00,  0.00000000e+00,  0.00000000e+00],\n",
       "       [-1.40461317e+03, -2.27120766e+01, -9.22048771e+01,\n",
       "         0.00000000e+00,  0.00000000e+00,  0.00000000e+00,\n",
       "         0.00000000e+00,  0.00000000e+00,  0.00000000e+00],\n",
       "       [-1.40461317e+03, -2.65880897e-01, -1.17823456e+02,\n",
       "         0.00000000e+00,  0.00000000e+00,  0.00000000e+00,\n",
       "         0.00000000e+00,  0.00000000e+00,  0.00000000e+00],\n",
       "       [-1.40461317e+03, -2.12364695e+01,  4.34790102e+02,\n",
       "         0.00000000e+00,  0.00000000e+00,  0.00000000e+00,\n",
       "         0.00000000e+00,  0.00000000e+00,  0.00000000e+00],\n",
       "       [-1.40461317e+03,  2.95417756e+01, -4.01828955e+02,\n",
       "         0.00000000e+00,  0.00000000e+00,  0.00000000e+00,\n",
       "         0.00000000e+00,  0.00000000e+00,  0.00000000e+00],\n",
       "       [-1.40461317e+03, -5.42848234e+00,  1.11537041e+02,\n",
       "         0.00000000e+00,  0.00000000e+00,  0.00000000e+00,\n",
       "         0.00000000e+00,  0.00000000e+00,  0.00000000e+00]])"
      ]
     },
     "execution_count": 194,
     "metadata": {},
     "output_type": "execute_result"
    }
   ],
   "source": [
    "ld_embedding = Q[:, :3] @ Lambda_sqrt[:3, :]\n",
    "ld_embedding"
   ]
  },
  {
   "cell_type": "code",
   "execution_count": 195,
   "metadata": {},
   "outputs": [],
   "source": [
    "ld_embedding = ld_embedding[:, 1:3]"
   ]
  },
  {
   "cell_type": "code",
   "execution_count": 196,
   "metadata": {},
   "outputs": [
    {
     "data": {
      "text/plain": [
       "array([[ 4.27018097e+02, -7.59686495e+01],\n",
       "       [-7.89962797e+02, -2.37489603e+00],\n",
       "       [ 4.12949246e+02,  1.22953662e+02],\n",
       "       [-2.99034124e+01,  2.09200288e+01],\n",
       "       [-2.27120766e+01, -9.22048771e+01],\n",
       "       [-2.65880897e-01, -1.17823456e+02],\n",
       "       [-2.12364695e+01,  4.34790102e+02],\n",
       "       [ 2.95417756e+01, -4.01828955e+02],\n",
       "       [-5.42848234e+00,  1.11537041e+02]])"
      ]
     },
     "execution_count": 196,
     "metadata": {},
     "output_type": "execute_result"
    }
   ],
   "source": [
    "ld_embedding"
   ]
  },
  {
   "cell_type": "code",
   "execution_count": 202,
   "metadata": {},
   "outputs": [
    {
     "data": {
      "image/png": "[encoded data removed]",
      "text/plain": [
       "<Figure size 432x288 with 1 Axes>"
      ]
     },
     "metadata": {
      "needs_background": "light"
     },
     "output_type": "display_data"
    }
   ],
   "source": [
    "x = ld_embedding[:, 0]\n",
    "y = ld_embedding[:, 1]\n",
    "label = cities\n",
    "\n",
    "fig, ax = plt.subplots()\n",
    "ax.scatter(x, y)\n",
    "for i, txt in enumerate(label):\n",
    "    ax.annotate(txt, (x[i], y[i]))\n"
   ]
  },
  {
   "cell_type": "code",
   "execution_count": null,
   "metadata": {},
   "outputs": [],
   "source": []
  }
 ],
 "metadata": {
  "kernelspec": {
   "display_name": "Python 3",
   "language": "python",
   "name": "python3"
  },
  "language_info": {
   "codemirror_mode": {
    "name": "ipython",
    "version": 3
   },
   "file_extension": ".py",
   "mimetype": "text/x-python",
   "name": "python",
   "nbconvert_exporter": "python",
   "pygments_lexer": "ipython3",
   "version": "3.6.7"
  }
 },
 "nbformat": 4,
 "nbformat_minor": 2
}
