{
 "cells": [
  {
   "cell_type": "code",
   "execution_count": 49,
   "metadata": {},
   "outputs": [],
   "source": [
    "import numpy as np\n",
    "import pandas as pd\n",
    "import matplotlib.pyplot as plt"
   ]
  },
  {
   "cell_type": "code",
   "execution_count": 50,
   "metadata": {},
   "outputs": [
    {
     "data": {
      "text/html": [
       "<div>\n",
       "<style scoped>\n",
       "    .dataframe tbody tr th:only-of-type {\n",
       "        vertical-align: middle;\n",
       "    }\n",
       "\n",
       "    .dataframe tbody tr th {\n",
       "        vertical-align: top;\n",
       "    }\n",
       "\n",
       "    .dataframe thead th {\n",
       "        text-align: right;\n",
       "    }\n",
       "</style>\n",
       "<table border=\"1\" class=\"dataframe\">\n",
       "  <thead>\n",
       "    <tr style=\"text-align: right;\">\n",
       "      <th></th>\n",
       "      <th>BOS</th>\n",
       "      <th>NYC</th>\n",
       "      <th>DC</th>\n",
       "      <th>MIA</th>\n",
       "      <th>CHI</th>\n",
       "      <th>SEA</th>\n",
       "      <th>SF</th>\n",
       "      <th>LA</th>\n",
       "      <th>DEN</th>\n",
       "    </tr>\n",
       "    <tr>\n",
       "      <th></th>\n",
       "      <th></th>\n",
       "      <th></th>\n",
       "      <th></th>\n",
       "      <th></th>\n",
       "      <th></th>\n",
       "      <th></th>\n",
       "      <th></th>\n",
       "      <th></th>\n",
       "      <th></th>\n",
       "    </tr>\n",
       "  </thead>\n",
       "  <tbody>\n",
       "    <tr>\n",
       "      <th>BOS</th>\n",
       "      <td>0</td>\n",
       "      <td>206</td>\n",
       "      <td>429</td>\n",
       "      <td>1504</td>\n",
       "      <td>963</td>\n",
       "      <td>2976</td>\n",
       "      <td>3095</td>\n",
       "      <td>2979</td>\n",
       "      <td>1949</td>\n",
       "    </tr>\n",
       "    <tr>\n",
       "      <th>NYC</th>\n",
       "      <td>206</td>\n",
       "      <td>0</td>\n",
       "      <td>233</td>\n",
       "      <td>1308</td>\n",
       "      <td>802</td>\n",
       "      <td>2815</td>\n",
       "      <td>2934</td>\n",
       "      <td>2786</td>\n",
       "      <td>1771</td>\n",
       "    </tr>\n",
       "    <tr>\n",
       "      <th>DC</th>\n",
       "      <td>429</td>\n",
       "      <td>233</td>\n",
       "      <td>0</td>\n",
       "      <td>1075</td>\n",
       "      <td>671</td>\n",
       "      <td>2684</td>\n",
       "      <td>2799</td>\n",
       "      <td>2631</td>\n",
       "      <td>1616</td>\n",
       "    </tr>\n",
       "    <tr>\n",
       "      <th>MIA</th>\n",
       "      <td>1504</td>\n",
       "      <td>1308</td>\n",
       "      <td>1075</td>\n",
       "      <td>0</td>\n",
       "      <td>1329</td>\n",
       "      <td>3273</td>\n",
       "      <td>3053</td>\n",
       "      <td>2687</td>\n",
       "      <td>2037</td>\n",
       "    </tr>\n",
       "    <tr>\n",
       "      <th>CHI</th>\n",
       "      <td>963</td>\n",
       "      <td>802</td>\n",
       "      <td>671</td>\n",
       "      <td>1329</td>\n",
       "      <td>0</td>\n",
       "      <td>2013</td>\n",
       "      <td>2142</td>\n",
       "      <td>2054</td>\n",
       "      <td>996</td>\n",
       "    </tr>\n",
       "    <tr>\n",
       "      <th>SEA</th>\n",
       "      <td>2976</td>\n",
       "      <td>2815</td>\n",
       "      <td>2684</td>\n",
       "      <td>3273</td>\n",
       "      <td>2013</td>\n",
       "      <td>0</td>\n",
       "      <td>808</td>\n",
       "      <td>1131</td>\n",
       "      <td>1307</td>\n",
       "    </tr>\n",
       "    <tr>\n",
       "      <th>SF</th>\n",
       "      <td>3095</td>\n",
       "      <td>2934</td>\n",
       "      <td>2799</td>\n",
       "      <td>3053</td>\n",
       "      <td>2142</td>\n",
       "      <td>808</td>\n",
       "      <td>0</td>\n",
       "      <td>379</td>\n",
       "      <td>1235</td>\n",
       "    </tr>\n",
       "    <tr>\n",
       "      <th>LA</th>\n",
       "      <td>2979</td>\n",
       "      <td>2786</td>\n",
       "      <td>2631</td>\n",
       "      <td>2687</td>\n",
       "      <td>2054</td>\n",
       "      <td>1131</td>\n",
       "      <td>379</td>\n",
       "      <td>0</td>\n",
       "      <td>1059</td>\n",
       "    </tr>\n",
       "    <tr>\n",
       "      <th>DEN</th>\n",
       "      <td>1949</td>\n",
       "      <td>1771</td>\n",
       "      <td>1616</td>\n",
       "      <td>2037</td>\n",
       "      <td>996</td>\n",
       "      <td>1307</td>\n",
       "      <td>1235</td>\n",
       "      <td>1059</td>\n",
       "      <td>0</td>\n",
       "    </tr>\n",
       "  </tbody>\n",
       "</table>\n",
       "</div>"
      ],
      "text/plain": [
       "       BOS     NYC     DC      MIA     CHI     SEA     SF      LA      DEN  \n",
       "                                                                            \n",
       "BOS        0     206     429    1504     963    2976    3095    2979    1949\n",
       "NYC      206       0     233    1308     802    2815    2934    2786    1771\n",
       "DC       429     233       0    1075     671    2684    2799    2631    1616\n",
       "MIA     1504    1308    1075       0    1329    3273    3053    2687    2037\n",
       "CHI      963     802     671    1329       0    2013    2142    2054     996\n",
       "SEA     2976    2815    2684    3273    2013       0     808    1131    1307\n",
       "SF      3095    2934    2799    3053    2142     808       0     379    1235\n",
       "LA      2979    2786    2631    2687    2054    1131     379       0    1059\n",
       "DEN     1949    1771    1616    2037     996    1307    1235    1059       0"
      ]
     },
     "execution_count": 50,
     "metadata": {},
     "output_type": "execute_result"
    }
   ],
   "source": [
    "df = pd.read_csv('./hw4_data.csv', index_col=0)\n",
    "df"
   ]
  },
  {
   "cell_type": "code",
   "execution_count": 51,
   "metadata": {},
   "outputs": [
    {
     "data": {
      "text/plain": [
       "Index([' BOS  ', ' NYC  ', ' DC   ', ' MIA  ', ' CHI  ', ' SEA  ', ' SF   ',\n",
       "       ' LA   ', ' DEN  '],\n",
       "      dtype='object')"
      ]
     },
     "execution_count": 51,
     "metadata": {},
     "output_type": "execute_result"
    }
   ],
   "source": [
    "cities = df.columns\n",
    "cities"
   ]
  },
  {
   "cell_type": "code",
   "execution_count": 52,
   "metadata": {},
   "outputs": [
    {
     "data": {
      "text/plain": [
       "array([[       0,    42436,   184041,  2262016,   927369,  8856576,\n",
       "         9579025,  8874441,  3798601],\n",
       "       [   42436,        0,    54289,  1710864,   643204,  7924225,\n",
       "         8608356,  7761796,  3136441],\n",
       "       [  184041,    54289,        0,  1155625,   450241,  7203856,\n",
       "         7834401,  6922161,  2611456],\n",
       "       [ 2262016,  1710864,  1155625,        0,  1766241, 10712529,\n",
       "         9320809,  7219969,  4149369],\n",
       "       [  927369,   643204,   450241,  1766241,        0,  4052169,\n",
       "         4588164,  4218916,   992016],\n",
       "       [ 8856576,  7924225,  7203856, 10712529,  4052169,        0,\n",
       "          652864,  1279161,  1708249],\n",
       "       [ 9579025,  8608356,  7834401,  9320809,  4588164,   652864,\n",
       "               0,   143641,  1525225],\n",
       "       [ 8874441,  7761796,  6922161,  7219969,  4218916,  1279161,\n",
       "          143641,        0,  1121481],\n",
       "       [ 3798601,  3136441,  2611456,  4149369,   992016,  1708249,\n",
       "         1525225,  1121481,        0]], dtype=int64)"
      ]
     },
     "execution_count": 52,
     "metadata": {},
     "output_type": "execute_result"
    }
   ],
   "source": [
    "D = df.to_numpy() ** 2\n",
    "D"
   ]
  },
  {
   "cell_type": "code",
   "execution_count": 53,
   "metadata": {},
   "outputs": [
    {
     "data": {
      "text/plain": [
       "9"
      ]
     },
     "execution_count": 53,
     "metadata": {},
     "output_type": "execute_result"
    }
   ],
   "source": [
    "n = D.shape[0]\n",
    "n"
   ]
  },
  {
   "cell_type": "code",
   "execution_count": 54,
   "metadata": {},
   "outputs": [
    {
     "data": {
      "text/plain": [
       "array([[ 0.88888889, -0.11111111, -0.11111111, -0.11111111, -0.11111111,\n",
       "        -0.11111111, -0.11111111, -0.11111111, -0.11111111],\n",
       "       [-0.11111111,  0.88888889, -0.11111111, -0.11111111, -0.11111111,\n",
       "        -0.11111111, -0.11111111, -0.11111111, -0.11111111],\n",
       "       [-0.11111111, -0.11111111,  0.88888889, -0.11111111, -0.11111111,\n",
       "        -0.11111111, -0.11111111, -0.11111111, -0.11111111],\n",
       "       [-0.11111111, -0.11111111, -0.11111111,  0.88888889, -0.11111111,\n",
       "        -0.11111111, -0.11111111, -0.11111111, -0.11111111],\n",
       "       [-0.11111111, -0.11111111, -0.11111111, -0.11111111,  0.88888889,\n",
       "        -0.11111111, -0.11111111, -0.11111111, -0.11111111],\n",
       "       [-0.11111111, -0.11111111, -0.11111111, -0.11111111, -0.11111111,\n",
       "         0.88888889, -0.11111111, -0.11111111, -0.11111111],\n",
       "       [-0.11111111, -0.11111111, -0.11111111, -0.11111111, -0.11111111,\n",
       "        -0.11111111,  0.88888889, -0.11111111, -0.11111111],\n",
       "       [-0.11111111, -0.11111111, -0.11111111, -0.11111111, -0.11111111,\n",
       "        -0.11111111, -0.11111111,  0.88888889, -0.11111111],\n",
       "       [-0.11111111, -0.11111111, -0.11111111, -0.11111111, -0.11111111,\n",
       "        -0.11111111, -0.11111111, -0.11111111,  0.88888889]])"
      ]
     },
     "execution_count": 54,
     "metadata": {},
     "output_type": "execute_result"
    }
   ],
   "source": [
    "H = np.identity(n) + ((-1/n) * np.ones((n, n)))\n",
    "H"
   ]
  },
  {
   "cell_type": "code",
   "execution_count": 55,
   "metadata": {},
   "outputs": [
    {
     "data": {
      "text/plain": [
       "array([[ 2058374.34567901,  1779217.79012346,  1515885.2345679 ,\n",
       "         1136972.84567901,   656568.45679012, -1932962.32098765,\n",
       "        -2301805.93209877, -2211231.65432099,  -701018.7654321 ],\n",
       "       [ 1779217.79012346,  1542497.2345679 ,  1322822.67901235,\n",
       "         1154610.29012346,   540712.40123457, -1724725.37654321,\n",
       "        -2074409.98765432, -1912847.70987654,  -627877.32098765],\n",
       "       [ 1515885.2345679 ,  1322822.67901235,  1157437.12345679,\n",
       "         1239699.7345679 ,   444663.84567901, -1557070.93209877,\n",
       "        -1879962.54320988, -1685560.2654321 ,  -557914.87654321],\n",
       "       [ 1136972.84567901,  1154610.29012346,  1239699.7345679 ,\n",
       "         2477587.34567901,   446738.95679012, -2651332.32098765,\n",
       "        -1963091.43209877, -1174389.15432099,  -666796.2654321 ],\n",
       "       [  656568.45679012,   540712.40123457,   444663.84567901,\n",
       "          446738.95679012,   182131.56790123,  -468880.20987654,\n",
       "         -744496.82098765,  -821590.54320988,  -235847.65432099],\n",
       "       [-1932962.32098765, -1724725.37654321, -1557070.93209877,\n",
       "        -2651332.32098765,  -468880.20987654,  2932277.01234568,\n",
       "         2598225.90123457,  2023359.67901235,   781108.56790123],\n",
       "       [-2301805.93209876, -2074409.98765432, -1879962.54320988,\n",
       "        -1963091.43209876,  -744496.82098765,  2598225.90123457,\n",
       "         2917038.79012346,  2583500.56790123,   865001.45679012],\n",
       "       [-2211231.65432099, -1912847.70987654, -1685560.2654321 ,\n",
       "        -1174389.15432099,  -821590.54320988,  2023359.67901235,\n",
       "         2583500.56790123,  2393603.34567901,   805155.7345679 ],\n",
       "       [ -701018.7654321 ,  -627877.32098765,  -557914.87654321,\n",
       "         -666796.2654321 ,  -235847.65432099,   781108.56790123,\n",
       "          865001.45679012,   805155.7345679 ,   338189.12345679]])"
      ]
     },
     "execution_count": 55,
     "metadata": {},
     "output_type": "execute_result"
    }
   ],
   "source": [
    "# Gram matrix\n",
    "B = -(1/2) * H.T @ D @ H\n",
    "B"
   ]
  },
  {
   "cell_type": "code",
   "execution_count": 56,
   "metadata": {},
   "outputs": [
    {
     "data": {
      "text/plain": [
       "(array([[-0.17974193, -0.4358173 ,  0.35080372, -0.33333333,  0.1099768 ,\n",
       "          0.28379668,  0.46896639,  0.31721813, -0.36109486],\n",
       "        [ 0.02532664,  0.19408103, -0.68002278, -0.33333333, -0.45462149,\n",
       "         -0.00939789,  0.18471798,  0.21029868, -0.32098869],\n",
       "        [ 0.30958397,  0.39704703,  0.57860206, -0.33333333, -0.27705271,\n",
       "         -0.27726932, -0.23468125,  0.09359572, -0.28835403],\n",
       "        [-0.46256136, -0.03851583, -0.02387459, -0.33333333,  0.03620323,\n",
       "          0.07983907, -0.27152993, -0.69537389, -0.32850283],\n",
       "        [ 0.49895737, -0.12195624, -0.24401871, -0.33333333,  0.54403322,\n",
       "          0.24916266, -0.4242057 ,  0.11978205, -0.11471526],\n",
       "        [-0.4512496 , -0.20092174,  0.01081426, -0.33333333, -0.17571701,\n",
       "         -0.08109916, -0.48201059,  0.43858078,  0.42735856],\n",
       "        [-0.04646928,  0.54825175,  0.09223069, -0.33333333,  0.06668441,\n",
       "          0.54289287,  0.25259793, -0.09033973,  0.45441892],\n",
       "        [ 0.43203669, -0.48644404,  0.01861698, -0.33333333, -0.34933298,\n",
       "         -0.1090818 ,  0.17256131, -0.38457192,  0.39198655],\n",
       "        [-0.12588248,  0.14427533, -0.10315164, -0.33333333,  0.49982655,\n",
       "         -0.67884311,  0.33358386, -0.00918982,  0.13989163]]),\n",
       " array([-3.23706772e+05, -6.23120681e+04, -4.12232465e+02,  2.40835639e-10,\n",
       "         3.73527928e+04,  9.06005212e+04,  1.83009131e+05,  2.12481327e+06,\n",
       "         1.39497912e+07]))"
      ]
     },
     "execution_count": 56,
     "metadata": {},
     "output_type": "execute_result"
    }
   ],
   "source": [
    "lambdas, Q = np.linalg.eigh(B)\n",
    "Q, lambdas"
   ]
  },
  {
   "cell_type": "code",
   "execution_count": 57,
   "metadata": {},
   "outputs": [
    {
     "data": {
      "text/plain": [
       "[(-323706.7716778141,\n",
       "  array([-0.17974193,  0.02532664,  0.30958397, -0.46256136,  0.49895737,\n",
       "         -0.4512496 , -0.04646928,  0.43203669, -0.12588248])),\n",
       " (-62312.06812777193,\n",
       "  array([-0.4358173 ,  0.19408103,  0.39704703, -0.03851583, -0.12195624,\n",
       "         -0.20092174,  0.54825175, -0.48644404,  0.14427533])),\n",
       " (-412.2324645795341,\n",
       "  array([ 0.35080372, -0.68002278,  0.57860206, -0.02387459, -0.24401871,\n",
       "          0.01081426,  0.09223069,  0.01861698, -0.10315164])),\n",
       " (2.4083563869214596e-10,\n",
       "  array([-0.33333333, -0.33333333, -0.33333333, -0.33333333, -0.33333333,\n",
       "         -0.33333333, -0.33333333, -0.33333333, -0.33333333])),\n",
       " (37352.79277250803,\n",
       "  array([ 0.1099768 , -0.45462149, -0.27705271,  0.03620323,  0.54403322,\n",
       "         -0.17571701,  0.06668441, -0.34933298,  0.49982655])),\n",
       " (90600.52117369976,\n",
       "  array([ 0.28379668, -0.00939789, -0.27726932,  0.07983907,  0.24916266,\n",
       "         -0.08109916,  0.54289287, -0.1090818 , -0.67884311])),\n",
       " (183009.1307052339,\n",
       "  array([ 0.46896639,  0.18471798, -0.23468125, -0.27152993, -0.4242057 ,\n",
       "         -0.48201059,  0.25259793,  0.17256131,  0.33358386])),\n",
       " (2124813.2691818085,\n",
       "  array([ 0.31721813,  0.21029868,  0.09359572, -0.69537389,  0.11978205,\n",
       "          0.43858078, -0.09033973, -0.38457192, -0.00918982])),\n",
       " (13949791.2473258,\n",
       "  array([-0.36109486, -0.32098869, -0.28835403, -0.32850283, -0.11471526,\n",
       "          0.42735856,  0.45441892,  0.39198655,  0.13989163]))]"
      ]
     },
     "execution_count": 57,
     "metadata": {},
     "output_type": "execute_result"
    }
   ],
   "source": [
    "eigen_pairing = list(zip(lambdas, Q.T))\n",
    "eigen_pairing"
   ]
  },
  {
   "cell_type": "code",
   "execution_count": 58,
   "metadata": {},
   "outputs": [
    {
     "data": {
      "text/plain": [
       "OrderedDict([(' BOS  ',\n",
       "              (-323706.7716778141,\n",
       "               array([-0.17974193,  0.02532664,  0.30958397, -0.46256136,  0.49895737,\n",
       "                      -0.4512496 , -0.04646928,  0.43203669, -0.12588248]))),\n",
       "             (' NYC  ',\n",
       "              (-62312.06812777193,\n",
       "               array([-0.4358173 ,  0.19408103,  0.39704703, -0.03851583, -0.12195624,\n",
       "                      -0.20092174,  0.54825175, -0.48644404,  0.14427533]))),\n",
       "             (' DC   ',\n",
       "              (-412.2324645795341,\n",
       "               array([ 0.35080372, -0.68002278,  0.57860206, -0.02387459, -0.24401871,\n",
       "                       0.01081426,  0.09223069,  0.01861698, -0.10315164]))),\n",
       "             (' MIA  ',\n",
       "              (2.4083563869214596e-10,\n",
       "               array([-0.33333333, -0.33333333, -0.33333333, -0.33333333, -0.33333333,\n",
       "                      -0.33333333, -0.33333333, -0.33333333, -0.33333333]))),\n",
       "             (' CHI  ',\n",
       "              (37352.79277250803,\n",
       "               array([ 0.1099768 , -0.45462149, -0.27705271,  0.03620323,  0.54403322,\n",
       "                      -0.17571701,  0.06668441, -0.34933298,  0.49982655]))),\n",
       "             (' SEA  ',\n",
       "              (90600.52117369976,\n",
       "               array([ 0.28379668, -0.00939789, -0.27726932,  0.07983907,  0.24916266,\n",
       "                      -0.08109916,  0.54289287, -0.1090818 , -0.67884311]))),\n",
       "             (' SF   ',\n",
       "              (183009.1307052339,\n",
       "               array([ 0.46896639,  0.18471798, -0.23468125, -0.27152993, -0.4242057 ,\n",
       "                      -0.48201059,  0.25259793,  0.17256131,  0.33358386]))),\n",
       "             (' LA   ',\n",
       "              (2124813.2691818085,\n",
       "               array([ 0.31721813,  0.21029868,  0.09359572, -0.69537389,  0.11978205,\n",
       "                       0.43858078, -0.09033973, -0.38457192, -0.00918982]))),\n",
       "             (' DEN  ',\n",
       "              (13949791.2473258,\n",
       "               array([-0.36109486, -0.32098869, -0.28835403, -0.32850283, -0.11471526,\n",
       "                       0.42735856,  0.45441892,  0.39198655,  0.13989163])))])"
      ]
     },
     "execution_count": 58,
     "metadata": {},
     "output_type": "execute_result"
    }
   ],
   "source": [
    "import collections\n",
    "lambdas_pairing = collections.OrderedDict(zip(cities, eigen_pairing))\n",
    "lambdas_pairing"
   ]
  },
  {
   "cell_type": "code",
   "execution_count": 59,
   "metadata": {},
   "outputs": [
    {
     "data": {
      "text/plain": [
       "OrderedDict([(' DEN  ',\n",
       "              (13949791.2473258,\n",
       "               array([-0.36109486, -0.32098869, -0.28835403, -0.32850283, -0.11471526,\n",
       "                       0.42735856,  0.45441892,  0.39198655,  0.13989163]))),\n",
       "             (' LA   ',\n",
       "              (2124813.2691818085,\n",
       "               array([ 0.31721813,  0.21029868,  0.09359572, -0.69537389,  0.11978205,\n",
       "                       0.43858078, -0.09033973, -0.38457192, -0.00918982]))),\n",
       "             (' SF   ',\n",
       "              (183009.1307052339,\n",
       "               array([ 0.46896639,  0.18471798, -0.23468125, -0.27152993, -0.4242057 ,\n",
       "                      -0.48201059,  0.25259793,  0.17256131,  0.33358386]))),\n",
       "             (' SEA  ',\n",
       "              (90600.52117369976,\n",
       "               array([ 0.28379668, -0.00939789, -0.27726932,  0.07983907,  0.24916266,\n",
       "                      -0.08109916,  0.54289287, -0.1090818 , -0.67884311]))),\n",
       "             (' CHI  ',\n",
       "              (37352.79277250803,\n",
       "               array([ 0.1099768 , -0.45462149, -0.27705271,  0.03620323,  0.54403322,\n",
       "                      -0.17571701,  0.06668441, -0.34933298,  0.49982655]))),\n",
       "             (' MIA  ',\n",
       "              (2.4083563869214596e-10,\n",
       "               array([-0.33333333, -0.33333333, -0.33333333, -0.33333333, -0.33333333,\n",
       "                      -0.33333333, -0.33333333, -0.33333333, -0.33333333]))),\n",
       "             (' DC   ',\n",
       "              (-412.2324645795341,\n",
       "               array([ 0.35080372, -0.68002278,  0.57860206, -0.02387459, -0.24401871,\n",
       "                       0.01081426,  0.09223069,  0.01861698, -0.10315164]))),\n",
       "             (' NYC  ',\n",
       "              (-62312.06812777193,\n",
       "               array([-0.4358173 ,  0.19408103,  0.39704703, -0.03851583, -0.12195624,\n",
       "                      -0.20092174,  0.54825175, -0.48644404,  0.14427533]))),\n",
       "             (' BOS  ',\n",
       "              (-323706.7716778141,\n",
       "               array([-0.17974193,  0.02532664,  0.30958397, -0.46256136,  0.49895737,\n",
       "                      -0.4512496 , -0.04646928,  0.43203669, -0.12588248])))])"
      ]
     },
     "execution_count": 59,
     "metadata": {},
     "output_type": "execute_result"
    }
   ],
   "source": [
    "sorted_lambdas_pairing = collections.OrderedDict(sorted(lambdas_pairing.items(), key=lambda x: x[1], reverse=True))\n",
    "sorted_lambdas_pairing"
   ]
  },
  {
   "cell_type": "code",
   "execution_count": 60,
   "metadata": {},
   "outputs": [
    {
     "data": {
      "text/plain": [
       "array([[-0.36109486, -0.32098869, -0.28835403, -0.32850283, -0.11471526,\n",
       "         0.42735856,  0.45441892,  0.39198655,  0.13989163],\n",
       "       [ 0.31721813,  0.21029868,  0.09359572, -0.69537389,  0.11978205,\n",
       "         0.43858078, -0.09033973, -0.38457192, -0.00918982],\n",
       "       [ 0.46896639,  0.18471798, -0.23468125, -0.27152993, -0.4242057 ,\n",
       "        -0.48201059,  0.25259793,  0.17256131,  0.33358386],\n",
       "       [ 0.28379668, -0.00939789, -0.27726932,  0.07983907,  0.24916266,\n",
       "        -0.08109916,  0.54289287, -0.1090818 , -0.67884311],\n",
       "       [ 0.1099768 , -0.45462149, -0.27705271,  0.03620323,  0.54403322,\n",
       "        -0.17571701,  0.06668441, -0.34933298,  0.49982655],\n",
       "       [-0.33333333, -0.33333333, -0.33333333, -0.33333333, -0.33333333,\n",
       "        -0.33333333, -0.33333333, -0.33333333, -0.33333333],\n",
       "       [ 0.35080372, -0.68002278,  0.57860206, -0.02387459, -0.24401871,\n",
       "         0.01081426,  0.09223069,  0.01861698, -0.10315164],\n",
       "       [-0.4358173 ,  0.19408103,  0.39704703, -0.03851583, -0.12195624,\n",
       "        -0.20092174,  0.54825175, -0.48644404,  0.14427533],\n",
       "       [-0.17974193,  0.02532664,  0.30958397, -0.46256136,  0.49895737,\n",
       "        -0.4512496 , -0.04646928,  0.43203669, -0.12588248]])"
      ]
     },
     "execution_count": 60,
     "metadata": {},
     "output_type": "execute_result"
    }
   ],
   "source": [
    "ordered_Q = np.array([item[1] for item in sorted_lambdas_pairing.values()])\n",
    "ordered_Q"
   ]
  },
  {
   "cell_type": "code",
   "execution_count": 61,
   "metadata": {},
   "outputs": [
    {
     "data": {
      "text/plain": [
       "[' DEN  ',\n",
       " ' LA   ',\n",
       " ' SF   ',\n",
       " ' SEA  ',\n",
       " ' CHI  ',\n",
       " ' MIA  ',\n",
       " ' DC   ',\n",
       " ' NYC  ',\n",
       " ' BOS  ']"
      ]
     },
     "execution_count": 61,
     "metadata": {},
     "output_type": "execute_result"
    }
   ],
   "source": [
    "ordered_cities = [city for city in sorted_lambdas_pairing]\n",
    "ordered_cities"
   ]
  },
  {
   "cell_type": "code",
   "execution_count": 62,
   "metadata": {},
   "outputs": [
    {
     "data": {
      "text/plain": [
       "array([ 1.39497912e+07,  2.12481327e+06,  1.83009131e+05,  9.06005212e+04,\n",
       "        3.73527928e+04,  2.40835639e-10, -4.12232465e+02, -6.23120681e+04,\n",
       "       -3.23706772e+05])"
      ]
     },
     "execution_count": 62,
     "metadata": {},
     "output_type": "execute_result"
    }
   ],
   "source": [
    "lambdas = [l[0] for l in sorted_lambdas_pairing.values()]\n",
    "lambdas = np.array(lambdas)\n",
    "lambdas"
   ]
  },
  {
   "cell_type": "code",
   "execution_count": 63,
   "metadata": {},
   "outputs": [
    {
     "name": "stderr",
     "output_type": "stream",
     "text": [
      "C:\\Users\\justi\\Anaconda3\\envs\\deeplearning\\lib\\site-packages\\ipykernel_launcher.py:1: RuntimeWarning: invalid value encountered in sqrt\n",
      "  \"\"\"Entry point for launching an IPython kernel.\n"
     ]
    },
    {
     "data": {
      "text/plain": [
       "array([3.73494193e+03, 1.45767392e+03, 4.27795665e+02, 3.00999205e+02,\n",
       "       1.93268706e+02, 1.55188801e-05,            nan,            nan,\n",
       "                  nan])"
      ]
     },
     "execution_count": 63,
     "metadata": {},
     "output_type": "execute_result"
    }
   ],
   "source": [
    "lambdas_sqrt = lambdas ** 0.5\n",
    "lambdas_sqrt"
   ]
  },
  {
   "cell_type": "code",
   "execution_count": 64,
   "metadata": {},
   "outputs": [
    {
     "data": {
      "text/plain": [
       "array([[3.73494193e+03, 0.00000000e+00, 0.00000000e+00, 0.00000000e+00,\n",
       "        0.00000000e+00, 0.00000000e+00, 0.00000000e+00, 0.00000000e+00,\n",
       "        0.00000000e+00],\n",
       "       [0.00000000e+00, 1.45767392e+03, 0.00000000e+00, 0.00000000e+00,\n",
       "        0.00000000e+00, 0.00000000e+00, 0.00000000e+00, 0.00000000e+00,\n",
       "        0.00000000e+00],\n",
       "       [0.00000000e+00, 0.00000000e+00, 4.27795665e+02, 0.00000000e+00,\n",
       "        0.00000000e+00, 0.00000000e+00, 0.00000000e+00, 0.00000000e+00,\n",
       "        0.00000000e+00],\n",
       "       [0.00000000e+00, 0.00000000e+00, 0.00000000e+00, 3.00999205e+02,\n",
       "        0.00000000e+00, 0.00000000e+00, 0.00000000e+00, 0.00000000e+00,\n",
       "        0.00000000e+00],\n",
       "       [0.00000000e+00, 0.00000000e+00, 0.00000000e+00, 0.00000000e+00,\n",
       "        1.93268706e+02, 0.00000000e+00, 0.00000000e+00, 0.00000000e+00,\n",
       "        0.00000000e+00],\n",
       "       [0.00000000e+00, 0.00000000e+00, 0.00000000e+00, 0.00000000e+00,\n",
       "        0.00000000e+00, 1.55188801e-05, 0.00000000e+00, 0.00000000e+00,\n",
       "        0.00000000e+00],\n",
       "       [0.00000000e+00, 0.00000000e+00, 0.00000000e+00, 0.00000000e+00,\n",
       "        0.00000000e+00, 0.00000000e+00,            nan, 0.00000000e+00,\n",
       "        0.00000000e+00],\n",
       "       [0.00000000e+00, 0.00000000e+00, 0.00000000e+00, 0.00000000e+00,\n",
       "        0.00000000e+00, 0.00000000e+00, 0.00000000e+00,            nan,\n",
       "        0.00000000e+00],\n",
       "       [0.00000000e+00, 0.00000000e+00, 0.00000000e+00, 0.00000000e+00,\n",
       "        0.00000000e+00, 0.00000000e+00, 0.00000000e+00, 0.00000000e+00,\n",
       "                   nan]])"
      ]
     },
     "execution_count": 64,
     "metadata": {},
     "output_type": "execute_result"
    }
   ],
   "source": [
    "Lambda_sqrt = np.diag(lambdas_sqrt)\n",
    "Lambda_sqrt"
   ]
  },
  {
   "cell_type": "code",
   "execution_count": 65,
   "metadata": {},
   "outputs": [
    {
     "data": {
      "text/plain": [
       "array([[nan, nan, nan, nan, nan, nan, nan, nan, nan],\n",
       "       [nan, nan, nan, nan, nan, nan, nan, nan, nan],\n",
       "       [nan, nan, nan, nan, nan, nan, nan, nan, nan],\n",
       "       [nan, nan, nan, nan, nan, nan, nan, nan, nan],\n",
       "       [nan, nan, nan, nan, nan, nan, nan, nan, nan],\n",
       "       [nan, nan, nan, nan, nan, nan, nan, nan, nan],\n",
       "       [nan, nan, nan, nan, nan, nan, nan, nan, nan],\n",
       "       [nan, nan, nan, nan, nan, nan, nan, nan, nan],\n",
       "       [nan, nan, nan, nan, nan, nan, nan, nan, nan]])"
      ]
     },
     "execution_count": 65,
     "metadata": {},
     "output_type": "execute_result"
    }
   ],
   "source": [
    "P = ordered_Q @ Lambda_sqrt\n",
    "P @ P.T\n",
    "Lambda = Lambda_sqrt ** 2\n",
    "ordered_Q.T @ Lambda @ ordered_Q\n",
    "P @ P.T"
   ]
  },
  {
   "cell_type": "code",
   "execution_count": 66,
   "metadata": {},
   "outputs": [],
   "source": [
    "k = 2"
   ]
  },
  {
   "cell_type": "code",
   "execution_count": 67,
   "metadata": {
    "scrolled": false
   },
   "outputs": [
    {
     "data": {
      "text/plain": [
       "array([[-1348.66832958,  -467.89683933,     0.        ,     0.        ,\n",
       "            0.        ,     0.        ,     0.        ,     0.        ,\n",
       "            0.        ],\n",
       "       [ 1184.79130038,   306.54690023,     0.        ,     0.        ,\n",
       "            0.        ,     0.        ,     0.        ,     0.        ,\n",
       "            0.        ],\n",
       "       [ 1751.56222332,   269.2585803 ,     0.        ,     0.        ,\n",
       "            0.        ,     0.        ,     0.        ,     0.        ,\n",
       "            0.        ],\n",
       "       [ 1059.96412886,   -13.69906384,     0.        ,     0.        ,\n",
       "            0.        ,     0.        ,     0.        ,     0.        ,\n",
       "            0.        ],\n",
       "       [  410.75694993,  -662.68989772,     0.        ,     0.        ,\n",
       "            0.        ,     0.        ,     0.        ,     0.        ,\n",
       "            0.        ],\n",
       "       [-1244.98064454,  -485.89130805,     0.        ,     0.        ,\n",
       "            0.        ,     0.        ,     0.        ,     0.        ,\n",
       "            0.        ],\n",
       "       [ 1310.23152045,  -991.25147188,     0.        ,     0.        ,\n",
       "            0.        ,     0.        ,     0.        ,     0.        ,\n",
       "            0.        ],\n",
       "       [-1627.752293  ,   282.90685066,     0.        ,     0.        ,\n",
       "            0.        ,     0.        ,     0.        ,     0.        ,\n",
       "            0.        ],\n",
       "       [ -671.32565889,    36.91797705,     0.        ,     0.        ,\n",
       "            0.        ,     0.        ,     0.        ,     0.        ,\n",
       "            0.        ]])"
      ]
     },
     "execution_count": 67,
     "metadata": {},
     "output_type": "execute_result"
    }
   ],
   "source": [
    "ld_embedding = ordered_Q[:, :k] @ Lambda_sqrt[:k, :]\n",
    "ld_embedding"
   ]
  },
  {
   "cell_type": "code",
   "execution_count": 68,
   "metadata": {},
   "outputs": [],
   "source": [
    "ld_embedding = ld_embedding[:, :k]"
   ]
  },
  {
   "cell_type": "code",
   "execution_count": 69,
   "metadata": {},
   "outputs": [
    {
     "data": {
      "text/plain": [
       "array([[-1348.66832958,  -467.89683933],\n",
       "       [ 1184.79130038,   306.54690023],\n",
       "       [ 1751.56222332,   269.2585803 ],\n",
       "       [ 1059.96412886,   -13.69906384],\n",
       "       [  410.75694993,  -662.68989772],\n",
       "       [-1244.98064454,  -485.89130805],\n",
       "       [ 1310.23152045,  -991.25147188],\n",
       "       [-1627.752293  ,   282.90685066],\n",
       "       [ -671.32565889,    36.91797705]])"
      ]
     },
     "execution_count": 69,
     "metadata": {},
     "output_type": "execute_result"
    }
   ],
   "source": [
    "ld_embedding"
   ]
  },
  {
   "cell_type": "code",
   "execution_count": 70,
   "metadata": {},
   "outputs": [
    {
     "data": {
      "image/png": "[encoded data removed]",
      "text/plain": [
       "<Figure size 432x288 with 1 Axes>"
      ]
     },
     "metadata": {
      "needs_background": "light"
     },
     "output_type": "display_data"
    }
   ],
   "source": [
    "x = ld_embedding[:, 0]\n",
    "y = ld_embedding[:, 1]\n",
    "labels = ordered_cities\n",
    "\n",
    "fig, ax = plt.subplots()\n",
    "ax.scatter(x, y)\n",
    "for i, label in enumerate(labels):\n",
    "    ax.annotate(label, (x[i], y[i]))\n"
   ]
  },
  {
   "cell_type": "code",
   "execution_count": null,
   "metadata": {},
   "outputs": [],
   "source": []
  }
 ],
 "metadata": {
  "kernelspec": {
   "display_name": "Python 3",
   "language": "python",
   "name": "python3"
  },
  "language_info": {
   "codemirror_mode": {
    "name": "ipython",
    "version": 3
   },
   "file_extension": ".py",
   "mimetype": "text/x-python",
   "name": "python",
   "nbconvert_exporter": "python",
   "pygments_lexer": "ipython3",
   "version": "3.6.7"
  }
 },
 "nbformat": 4,
 "nbformat_minor": 2
}
